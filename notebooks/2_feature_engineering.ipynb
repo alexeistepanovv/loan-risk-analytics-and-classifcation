{
 "cells": [
  {
   "cell_type": "code",
   "execution_count": 1,
   "metadata": {},
   "outputs": [],
   "source": [
    "import sys\n",
    "sys.path.append('../src')\n",
    "import pandas as pd\n",
    "import numpy as np\n",
    "import scorecardpy as sc\n",
    "import matplotlib.pyplot as plt\n",
    "from main import convert_to_dummy, create_category_buckets, calculate_woe_iv"
   ]
  },
  {
   "cell_type": "code",
   "execution_count": 2,
   "metadata": {},
   "outputs": [
    {
     "data": {
      "text/plain": [
       "id                         0\n",
       "gender                     0\n",
       "own_car                    0\n",
       "own_estate                 0\n",
       "num_children               0\n",
       "income_total               0\n",
       "income_type                0\n",
       "education_type             0\n",
       "family_status              0\n",
       "housing_type               0\n",
       "age_days                   0\n",
       "employed_days              0\n",
       "mobile_flag                0\n",
       "work_phone                 0\n",
       "phone                      0\n",
       "email_flag                 0\n",
       "occupation            134203\n",
       "num_family_members         0\n",
       "label                      0\n",
       "dtype: int64"
      ]
     },
     "execution_count": 2,
     "metadata": {},
     "output_type": "execute_result"
    }
   ],
   "source": [
    "application = pd.read_csv('../data/labeled_application.csv')\n",
    "credit = pd.read_csv('../data/labeled_credit.csv')\n",
    "application.isna().sum()"
   ]
  },
  {
   "cell_type": "code",
   "execution_count": 3,
   "metadata": {},
   "outputs": [
    {
     "name": "stderr",
     "output_type": "stream",
     "text": [
      "C:\\Users\\alexe\\AppData\\Local\\Temp\\ipykernel_6168\\1384592471.py:1: FutureWarning: A value is trying to be set on a copy of a DataFrame or Series through chained assignment using an inplace method.\n",
      "The behavior will change in pandas 3.0. This inplace method will never work because the intermediate object on which we are setting values always behaves as a copy.\n",
      "\n",
      "For example, when doing 'df[col].method(value, inplace=True)', try using 'df.method({col: value}, inplace=True)' or df[col] = df[col].method(value) instead, to perform the operation inplace on the original object.\n",
      "\n",
      "\n",
      "  application.occupation.fillna('unknown', inplace=True)\n",
      "C:\\Users\\alexe\\AppData\\Local\\Temp\\ipykernel_6168\\1384592471.py:3: SettingWithCopyWarning: \n",
      "A value is trying to be set on a copy of a slice from a DataFrame.\n",
      "Try using .loc[row_indexer,col_indexer] = value instead\n",
      "\n",
      "See the caveats in the documentation: https://pandas.pydata.org/pandas-docs/stable/user_guide/indexing.html#returning-a-view-versus-a-copy\n",
      "  labeled_application['label'] = pd.to_numeric(labeled_application['label'], errors='coerce')\n",
      "C:\\Users\\alexe\\AppData\\Local\\Temp\\ipykernel_6168\\1384592471.py:4: SettingWithCopyWarning: \n",
      "A value is trying to be set on a copy of a slice from a DataFrame.\n",
      "Try using .loc[row_indexer,col_indexer] = value instead\n",
      "\n",
      "See the caveats in the documentation: https://pandas.pydata.org/pandas-docs/stable/user_guide/indexing.html#returning-a-view-versus-a-copy\n",
      "  labeled_application['label'] = labeled_application['label'].astype('int8')\n"
     ]
    },
    {
     "data": {
      "text/plain": [
       "36457"
      ]
     },
     "execution_count": 3,
     "metadata": {},
     "output_type": "execute_result"
    }
   ],
   "source": [
    "application.occupation.fillna('unknown', inplace=True)\n",
    "labeled_application = application[application['label'] != 'new']\n",
    "labeled_application['label'] = pd.to_numeric(labeled_application['label'], errors='coerce')\n",
    "labeled_application['label'] = labeled_application['label'].astype('int8')\n",
    "len(labeled_application)"
   ]
  },
  {
   "cell_type": "code",
   "execution_count": 4,
   "metadata": {},
   "outputs": [
    {
     "name": "stderr",
     "output_type": "stream",
     "text": [
      "C:\\Users\\alexe\\AppData\\Local\\Temp\\ipykernel_6168\\11864843.py:1: FutureWarning: Downcasting behavior in `replace` is deprecated and will be removed in a future version. To retain the old behavior, explicitly call `result.infer_objects(copy=False)`. To opt-in to the future behavior, set `pd.set_option('future.no_silent_downcasting', True)`\n",
      "  application['gender'] = application['gender'].replace(['M','F'],[0,1])\n",
      "C:\\Users\\alexe\\AppData\\Local\\Temp\\ipykernel_6168\\11864843.py:2: FutureWarning: Downcasting behavior in `replace` is deprecated and will be removed in a future version. To retain the old behavior, explicitly call `result.infer_objects(copy=False)`. To opt-in to the future behavior, set `pd.set_option('future.no_silent_downcasting', True)`\n",
      "  application['own_car'] = application['own_car'].replace(['N','Y'],[0,1])\n",
      "C:\\Users\\alexe\\AppData\\Local\\Temp\\ipykernel_6168\\11864843.py:3: FutureWarning: Downcasting behavior in `replace` is deprecated and will be removed in a future version. To retain the old behavior, explicitly call `result.infer_objects(copy=False)`. To opt-in to the future behavior, set `pd.set_option('future.no_silent_downcasting', True)`\n",
      "  application['own_estate'] = application['own_estate'].replace(['N','Y'],[0,1])\n"
     ]
    }
   ],
   "source": [
    "application['gender'] = application['gender'].replace(['M','F'],[0,1])\n",
    "application['own_car'] = application['own_car'].replace(['N','Y'],[0,1])\n",
    "application['own_estate'] = application['own_estate'].replace(['N','Y'],[0,1])"
   ]
  },
  {
   "cell_type": "code",
   "execution_count": 8,
   "metadata": {},
   "outputs": [
    {
     "data": {
      "text/plain": [
       "income_type\n",
       "Working                 226104\n",
       "Commercial associate    100757\n",
       "Pensioner                75493\n",
       "State servant            36186\n",
       "Student                     17\n",
       "Name: count, dtype: int64"
      ]
     },
     "execution_count": 8,
     "metadata": {},
     "output_type": "execute_result"
    }
   ],
   "source": [
    "application.income_type.value_counts()"
   ]
  },
  {
   "cell_type": "code",
   "execution_count": 12,
   "metadata": {},
   "outputs": [
    {
     "data": {
      "text/plain": [
       "housing_type\n",
       "House / apartment      393831\n",
       "With parents            19077\n",
       "Municipal apartment     14214\n",
       "Rented apartment         5974\n",
       "Office apartment         3922\n",
       "Co-op apartment          1539\n",
       "Name: count, dtype: int64"
      ]
     },
     "execution_count": 12,
     "metadata": {},
     "output_type": "execute_result"
    }
   ],
   "source": [
    "application.housing_type.value_counts()"
   ]
  },
  {
   "cell_type": "code",
   "execution_count": 5,
   "metadata": {},
   "outputs": [
    {
     "name": "stdout",
     "output_type": "stream",
     "text": [
      "num_children\n",
      "0        304071\n",
      "1         88527\n",
      "2More     45959\n",
      "Name: count, dtype: int64\n"
     ]
    },
    {
     "name": "stderr",
     "output_type": "stream",
     "text": [
      "C:\\Users\\alexe\\AppData\\Local\\Temp\\ipykernel_16332\\988970362.py:1: FutureWarning: Setting an item of incompatible dtype is deprecated and will raise an error in a future version of pandas. Value '2More' has dtype incompatible with int64, please explicitly cast to a compatible dtype first.\n",
      "  application.loc[application['num_children'] >= 2,'num_children']='2More'\n"
     ]
    }
   ],
   "source": [
    "application.loc[application['num_children'] >= 2,'num_children']='2More'\n",
    "print(application['num_children'].value_counts(sort=False))"
   ]
  },
  {
   "cell_type": "code",
   "execution_count": 6,
   "metadata": {},
   "outputs": [
    {
     "name": "stdout",
     "output_type": "stream",
     "text": [
      "(1.937, 36.23]        418920\n",
      "(36.23, 69.849]        18266\n",
      "(69.849, 103.468]        954\n",
      "(103.468, 137.088]       286\n",
      "(137.088, 170.708]        29\n",
      "(170.708, 204.327]        55\n",
      "(204.327, 237.946]         7\n",
      "(237.946, 271.566]         0\n",
      "(271.566, 305.186]         0\n",
      "(305.186, 338.805]        11\n",
      "(338.805, 372.424]         0\n",
      "(372.424, 406.044]        12\n",
      "(406.044, 439.664]         0\n",
      "(439.664, 473.283]        10\n",
      "(473.283, 506.903]         0\n",
      "(506.903, 540.522]         0\n",
      "(540.522, 574.142]         0\n",
      "(574.142, 607.761]         0\n",
      "(607.761, 641.381]         0\n",
      "(641.381, 675.0]           7\n",
      "Name: count, dtype: int64\n"
     ]
    },
    {
     "data": {
      "text/plain": [
       "<Axes: ylabel='Frequency'>"
      ]
     },
     "execution_count": 6,
     "metadata": {},
     "output_type": "execute_result"
    },
    {
     "data": {
      "image/png": "[encoded data removed]",
      "text/plain": [
       "<Figure size 640x480 with 1 Axes>"
      ]
     },
     "metadata": {},
     "output_type": "display_data"
    }
   ],
   "source": [
    "application['income_total']=application['income_total'].astype(object)\n",
    "application['income_total'] = application['income_total']/10000 \n",
    "print(application['income_total'].value_counts(bins=20, sort=False))\n",
    "application['income_total'].plot(kind='hist',bins=50,density=True)"
   ]
  },
  {
   "cell_type": "code",
   "execution_count": 7,
   "metadata": {},
   "outputs": [],
   "source": [
    "application = create_category_buckets(application,'income_total', 5, [\"lowest\",\"low\",\"medium\",\"high\",\"highest\"])"
   ]
  },
  {
   "cell_type": "code",
   "execution_count": 8,
   "metadata": {},
   "outputs": [
    {
     "name": "stdout",
     "output_type": "stream",
     "text": [
      "(19.95, 24.9]    0.023436\n",
      "(24.9, 29.8]     0.108816\n",
      "(29.8, 34.7]     0.137553\n",
      "(34.7, 39.6]     0.147235\n",
      "(39.6, 44.5]     0.142346\n",
      "(44.5, 49.4]     0.115303\n",
      "(49.4, 54.3]     0.114286\n",
      "(54.3, 59.2]     0.106636\n",
      "(59.2, 64.1]     0.088463\n",
      "(64.1, 69.0]     0.015925\n",
      "Name: proportion, dtype: float64\n"
     ]
    },
    {
     "data": {
      "text/plain": [
       "<Axes: ylabel='Frequency'>"
      ]
     },
     "execution_count": 8,
     "metadata": {},
     "output_type": "execute_result"
    },
    {
     "data": {
      "image/png": "[encoded data removed]",
      "text/plain": [
       "<Figure size 640x480 with 1 Axes>"
      ]
     },
     "metadata": {},
     "output_type": "display_data"
    }
   ],
   "source": [
    "application['age_y']=-(application['age_days'])//365\t\n",
    "print(application['age_y'].value_counts(bins=10,normalize=True,sort=False))\n",
    "application['age_y'].plot(kind='hist',bins=20,density=True)"
   ]
  },
  {
   "cell_type": "code",
   "execution_count": 9,
   "metadata": {},
   "outputs": [],
   "source": [
    "application = create_category_buckets(application,'age_y',5, [\"yongest\",\"young\",\"middle\",\"old\",\"oldest\"])"
   ]
  },
  {
   "cell_type": "code",
   "execution_count": 10,
   "metadata": {},
   "outputs": [
    {
     "name": "stderr",
     "output_type": "stream",
     "text": [
      "C:\\Users\\alexe\\AppData\\Local\\Temp\\ipykernel_16332\\1353257541.py:4: FutureWarning: A value is trying to be set on a copy of a DataFrame or Series through chained assignment using an inplace method.\n",
      "The behavior will change in pandas 3.0. This inplace method will never work because the intermediate object on which we are setting values always behaves as a copy.\n",
      "\n",
      "For example, when doing 'df[col].method(value, inplace=True)', try using 'df.method({col: value}, inplace=True)' or df[col] = df[col].method(value) instead, to perform the operation inplace on the original object.\n",
      "\n",
      "\n",
      "  application['employed_y'].fillna(application['employed_y'].mean(),inplace=True) #replace na by mean\n"
     ]
    },
    {
     "data": {
      "text/plain": [
       "<Axes: ylabel='Frequency'>"
      ]
     },
     "execution_count": 10,
     "metadata": {},
     "output_type": "execute_result"
    },
    {
     "data": {
      "image/png": "[encoded data removed]",
      "text/plain": [
       "<Figure size 640x480 with 1 Axes>"
      ]
     },
     "metadata": {},
     "output_type": "display_data"
    }
   ],
   "source": [
    "application['employed_y']=-(application['employed_days'])//365\n",
    "application.loc[application['income_type'] == 'Pensioner', 'employed_y'] = np.nan\n",
    "application.loc[(application['employed_y'] < 0) & (application['income_type'] != 'Pensioner'), 'employed_y'] = np.nan\n",
    "application['employed_y'].fillna(application['employed_y'].mean(),inplace=True) #replace na by mean\n",
    "application['employed_y'].plot(kind='hist',bins=20,density=True)"
   ]
  },
  {
   "cell_type": "code",
   "execution_count": 11,
   "metadata": {},
   "outputs": [],
   "source": [
    "application = create_category_buckets(application,'employed_y',5, [\"lowest\",\"low\",\"medium\",\"high\",\"highest\"])"
   ]
  },
  {
   "cell_type": "code",
   "execution_count": 12,
   "metadata": {},
   "outputs": [
    {
     "name": "stderr",
     "output_type": "stream",
     "text": [
      "C:\\Users\\alexe\\AppData\\Local\\Temp\\ipykernel_16332\\1291721972.py:1: FutureWarning: Setting an item of incompatible dtype is deprecated and will raise an error in a future version of pandas. Value '4More' has dtype incompatible with float64, please explicitly cast to a compatible dtype first.\n",
      "  application.loc[application['num_family_members'] >= 4,'num_family_members']='4More'\n"
     ]
    }
   ],
   "source": [
    "application.loc[application['num_family_members'] >= 4,'num_family_members']='4More'"
   ]
  },
  {
   "cell_type": "code",
   "execution_count": 13,
   "metadata": {},
   "outputs": [
    {
     "name": "stdout",
     "output_type": "stream",
     "text": [
      "income_type\n",
      "Working                 226104\n",
      "Commercial associate    100757\n",
      "Pensioner                75493\n",
      "State servant            36186\n",
      "Student                     17\n",
      "Name: count, dtype: int64\n"
     ]
    }
   ],
   "source": [
    "print(application['income_type'].value_counts(sort=False))\n",
    "application.loc[application['income_type'] == 'Pensioner','income_type']='State servant'\n",
    "application.loc[application['income_type'] == 'Student','income_type']='State servant'"
   ]
  },
  {
   "cell_type": "code",
   "execution_count": 14,
   "metadata": {},
   "outputs": [
    {
     "data": {
      "text/plain": [
       "occupation\n",
       "unknown                  134203\n",
       "Laborers                  78240\n",
       "Core staff                43007\n",
       "Sales staff               41098\n",
       "Managers                  35487\n",
       "Drivers                   26090\n",
       "High skill tech staff     17289\n",
       "Accountants               15985\n",
       "Medicine staff            13520\n",
       "Cooking staff              8076\n",
       "Security staff             7993\n",
       "Cleaning staff             5845\n",
       "Private service staff      3456\n",
       "Low-skill Laborers         2140\n",
       "Secretaries                2044\n",
       "Waiters/barmen staff       1665\n",
       "Realty agents              1041\n",
       "HR staff                    774\n",
       "IT staff                    604\n",
       "Name: count, dtype: int64"
      ]
     },
     "execution_count": 14,
     "metadata": {},
     "output_type": "execute_result"
    }
   ],
   "source": [
    "application.occupation.value_counts()"
   ]
  },
  {
   "cell_type": "code",
   "execution_count": 15,
   "metadata": {},
   "outputs": [],
   "source": [
    "application.loc[(application['occupation']=='Cleaning staff') | (application['occupation']=='Cooking staff')\n",
    "                | (application['occupation']=='Drivers') | (application['occupation']=='Laborers') |\n",
    "                (application['occupation']=='Low-skill Laborers') | (application['occupation']=='Security staff') | \n",
    "                (application['occupation']=='Waiters/barmen staff'),'occupation']='Labor Work'\n",
    "\n",
    "application.loc[(application['occupation']=='Accountants') | (application['occupation']=='Core staff') |\n",
    "                (application['occupation']=='HR staff') | (application['occupation']=='Medicine staff') |\n",
    "                (application['occupation']=='Private service staff') | (application['occupation']=='Realty agents') |\n",
    "                (application['occupation']=='Sales staff') | (application['occupation']=='Secretaries'),'occupation']='Office Work'\n",
    "\n",
    "application.loc[(application['occupation']=='Managers') | (application['occupation']=='High skill tech staff') | (application['occupation']=='IT staff'),'occupation']='High Tech Work'"
   ]
  },
  {
   "cell_type": "code",
   "execution_count": 16,
   "metadata": {},
   "outputs": [
    {
     "name": "stderr",
     "output_type": "stream",
     "text": [
      "C:\\Users\\alexe\\AppData\\Local\\Temp\\ipykernel_16332\\3422707233.py:11: SettingWithCopyWarning: \n",
      "A value is trying to be set on a copy of a slice from a DataFrame.\n",
      "Try using .loc[row_indexer,col_indexer] = value instead\n",
      "\n",
      "See the caveats in the documentation: https://pandas.pydata.org/pandas-docs/stable/user_guide/indexing.html#returning-a-view-versus-a-copy\n",
      "  df['label'] = pd.to_numeric(df['label'], errors='coerce')\n",
      "c:\\Desktop\\loan_approve\\notebooks\\../src\\main.py:28: SettingWithCopyWarning: \n",
      "A value is trying to be set on a copy of a slice from a DataFrame.\n",
      "Try using .loc[row_indexer,col_indexer] = value instead\n",
      "\n",
      "See the caveats in the documentation: https://pandas.pydata.org/pandas-docs/stable/user_guide/indexing.html#returning-a-view-versus-a-copy\n",
      "  data[feature] = data[feature].astype(str)  # Convert to string if not already\n",
      "c:\\Desktop\\loan_approve\\notebooks\\../src\\main.py:28: SettingWithCopyWarning: \n",
      "A value is trying to be set on a copy of a slice from a DataFrame.\n",
      "Try using .loc[row_indexer,col_indexer] = value instead\n",
      "\n",
      "See the caveats in the documentation: https://pandas.pydata.org/pandas-docs/stable/user_guide/indexing.html#returning-a-view-versus-a-copy\n",
      "  data[feature] = data[feature].astype(str)  # Convert to string if not already\n",
      "c:\\Desktop\\loan_approve\\notebooks\\../src\\main.py:28: SettingWithCopyWarning: \n",
      "A value is trying to be set on a copy of a slice from a DataFrame.\n",
      "Try using .loc[row_indexer,col_indexer] = value instead\n",
      "\n",
      "See the caveats in the documentation: https://pandas.pydata.org/pandas-docs/stable/user_guide/indexing.html#returning-a-view-versus-a-copy\n",
      "  data[feature] = data[feature].astype(str)  # Convert to string if not already\n",
      "c:\\Desktop\\loan_approve\\notebooks\\../src\\main.py:28: SettingWithCopyWarning: \n",
      "A value is trying to be set on a copy of a slice from a DataFrame.\n",
      "Try using .loc[row_indexer,col_indexer] = value instead\n",
      "\n",
      "See the caveats in the documentation: https://pandas.pydata.org/pandas-docs/stable/user_guide/indexing.html#returning-a-view-versus-a-copy\n",
      "  data[feature] = data[feature].astype(str)  # Convert to string if not already\n",
      "c:\\Desktop\\loan_approve\\notebooks\\../src\\main.py:28: SettingWithCopyWarning: \n",
      "A value is trying to be set on a copy of a slice from a DataFrame.\n",
      "Try using .loc[row_indexer,col_indexer] = value instead\n",
      "\n",
      "See the caveats in the documentation: https://pandas.pydata.org/pandas-docs/stable/user_guide/indexing.html#returning-a-view-versus-a-copy\n",
      "  data[feature] = data[feature].astype(str)  # Convert to string if not already\n",
      "c:\\Desktop\\loan_approve\\notebooks\\../src\\main.py:28: SettingWithCopyWarning: \n",
      "A value is trying to be set on a copy of a slice from a DataFrame.\n",
      "Try using .loc[row_indexer,col_indexer] = value instead\n",
      "\n",
      "See the caveats in the documentation: https://pandas.pydata.org/pandas-docs/stable/user_guide/indexing.html#returning-a-view-versus-a-copy\n",
      "  data[feature] = data[feature].astype(str)  # Convert to string if not already\n",
      "c:\\Desktop\\loan_approve\\notebooks\\../src\\main.py:28: SettingWithCopyWarning: \n",
      "A value is trying to be set on a copy of a slice from a DataFrame.\n",
      "Try using .loc[row_indexer,col_indexer] = value instead\n",
      "\n",
      "See the caveats in the documentation: https://pandas.pydata.org/pandas-docs/stable/user_guide/indexing.html#returning-a-view-versus-a-copy\n",
      "  data[feature] = data[feature].astype(str)  # Convert to string if not already\n",
      "c:\\Desktop\\loan_approve\\notebooks\\../src\\main.py:28: SettingWithCopyWarning: \n",
      "A value is trying to be set on a copy of a slice from a DataFrame.\n",
      "Try using .loc[row_indexer,col_indexer] = value instead\n",
      "\n",
      "See the caveats in the documentation: https://pandas.pydata.org/pandas-docs/stable/user_guide/indexing.html#returning-a-view-versus-a-copy\n",
      "  data[feature] = data[feature].astype(str)  # Convert to string if not already\n",
      "c:\\Desktop\\loan_approve\\notebooks\\../src\\main.py:28: SettingWithCopyWarning: \n",
      "A value is trying to be set on a copy of a slice from a DataFrame.\n",
      "Try using .loc[row_indexer,col_indexer] = value instead\n",
      "\n",
      "See the caveats in the documentation: https://pandas.pydata.org/pandas-docs/stable/user_guide/indexing.html#returning-a-view-versus-a-copy\n",
      "  data[feature] = data[feature].astype(str)  # Convert to string if not already\n",
      "c:\\Desktop\\loan_approve\\notebooks\\../src\\main.py:28: SettingWithCopyWarning: \n",
      "A value is trying to be set on a copy of a slice from a DataFrame.\n",
      "Try using .loc[row_indexer,col_indexer] = value instead\n",
      "\n",
      "See the caveats in the documentation: https://pandas.pydata.org/pandas-docs/stable/user_guide/indexing.html#returning-a-view-versus-a-copy\n",
      "  data[feature] = data[feature].astype(str)  # Convert to string if not already\n",
      "c:\\Desktop\\loan_approve\\notebooks\\../src\\main.py:28: SettingWithCopyWarning: \n",
      "A value is trying to be set on a copy of a slice from a DataFrame.\n",
      "Try using .loc[row_indexer,col_indexer] = value instead\n",
      "\n",
      "See the caveats in the documentation: https://pandas.pydata.org/pandas-docs/stable/user_guide/indexing.html#returning-a-view-versus-a-copy\n",
      "  data[feature] = data[feature].astype(str)  # Convert to string if not already\n",
      "c:\\Desktop\\loan_approve\\notebooks\\../src\\main.py:28: SettingWithCopyWarning: \n",
      "A value is trying to be set on a copy of a slice from a DataFrame.\n",
      "Try using .loc[row_indexer,col_indexer] = value instead\n",
      "\n",
      "See the caveats in the documentation: https://pandas.pydata.org/pandas-docs/stable/user_guide/indexing.html#returning-a-view-versus-a-copy\n",
      "  data[feature] = data[feature].astype(str)  # Convert to string if not already\n",
      "c:\\Desktop\\loan_approve\\notebooks\\../src\\main.py:28: SettingWithCopyWarning: \n",
      "A value is trying to be set on a copy of a slice from a DataFrame.\n",
      "Try using .loc[row_indexer,col_indexer] = value instead\n",
      "\n",
      "See the caveats in the documentation: https://pandas.pydata.org/pandas-docs/stable/user_guide/indexing.html#returning-a-view-versus-a-copy\n",
      "  data[feature] = data[feature].astype(str)  # Convert to string if not already\n",
      "c:\\Desktop\\loan_approve\\notebooks\\../src\\main.py:28: SettingWithCopyWarning: \n",
      "A value is trying to be set on a copy of a slice from a DataFrame.\n",
      "Try using .loc[row_indexer,col_indexer] = value instead\n",
      "\n",
      "See the caveats in the documentation: https://pandas.pydata.org/pandas-docs/stable/user_guide/indexing.html#returning-a-view-versus-a-copy\n",
      "  data[feature] = data[feature].astype(str)  # Convert to string if not already\n"
     ]
    },
    {
     "name": "stdout",
     "output_type": "stream",
     "text": [
      "              variable  info_value\n",
      "16       gp_employed_y    0.049631\n",
      "6        family_status    0.030119\n",
      "2           own_estate    0.028349\n",
      "15            gp_age_y    0.024542\n",
      "7         housing_type    0.015711\n",
      "0               gender    0.013581\n",
      "5       education_type    0.009209\n",
      "13  num_family_members    0.007332\n",
      "12          occupation    0.003404\n",
      "4          income_type    0.002390\n",
      "9           work_phone    0.001865\n",
      "14     gp_income_total    0.001742\n",
      "1              own_car    0.001144\n",
      "3         num_children    0.000748\n",
      "11          email_flag    0.000366\n",
      "10               phone    0.000150\n",
      "8          mobile_flag    0.000000\n"
     ]
    },
    {
     "name": "stderr",
     "output_type": "stream",
     "text": [
      "c:\\Desktop\\loan_approve\\notebooks\\../src\\main.py:28: SettingWithCopyWarning: \n",
      "A value is trying to be set on a copy of a slice from a DataFrame.\n",
      "Try using .loc[row_indexer,col_indexer] = value instead\n",
      "\n",
      "See the caveats in the documentation: https://pandas.pydata.org/pandas-docs/stable/user_guide/indexing.html#returning-a-view-versus-a-copy\n",
      "  data[feature] = data[feature].astype(str)  # Convert to string if not already\n",
      "c:\\Desktop\\loan_approve\\notebooks\\../src\\main.py:28: SettingWithCopyWarning: \n",
      "A value is trying to be set on a copy of a slice from a DataFrame.\n",
      "Try using .loc[row_indexer,col_indexer] = value instead\n",
      "\n",
      "See the caveats in the documentation: https://pandas.pydata.org/pandas-docs/stable/user_guide/indexing.html#returning-a-view-versus-a-copy\n",
      "  data[feature] = data[feature].astype(str)  # Convert to string if not already\n",
      "c:\\Desktop\\loan_approve\\notebooks\\../src\\main.py:28: SettingWithCopyWarning: \n",
      "A value is trying to be set on a copy of a slice from a DataFrame.\n",
      "Try using .loc[row_indexer,col_indexer] = value instead\n",
      "\n",
      "See the caveats in the documentation: https://pandas.pydata.org/pandas-docs/stable/user_guide/indexing.html#returning-a-view-versus-a-copy\n",
      "  data[feature] = data[feature].astype(str)  # Convert to string if not already\n"
     ]
    }
   ],
   "source": [
    "categorical_vars = ['gender', 'own_car', 'own_estate', 'num_children', 'income_type',\n",
    "                    'education_type', 'family_status', 'housing_type', 'mobile_flag', \n",
    "                    'work_phone', 'phone', 'email_flag', 'occupation', \n",
    "                    'num_family_members', 'gp_income_total', 'gp_age_y', 'gp_employed_y']\n",
    "\n",
    "# Filter application data to include the categorical variables and the label\n",
    "labeled_data = application[application['label'] != 'new']\n",
    "df = labeled_data[categorical_vars + ['label']]\n",
    "\n",
    "# Ensure label column is numeric\n",
    "df['label'] = pd.to_numeric(df['label'], errors='coerce')\n",
    "\n",
    "# Initialize dictionary to store IV values\n",
    "iv_dict = {}\n",
    "\n",
    "# Calculate IV for each categorical variable\n",
    "for var in categorical_vars:\n",
    "    _, iv = calculate_woe_iv(df, 'label', var)\n",
    "    iv_dict[var] = iv\n",
    "\n",
    "# Convert the IV values into a DataFrame and sort by IV\n",
    "iv_df = pd.DataFrame(list(iv_dict.items()), columns=['variable', 'info_value'])\n",
    "iv_sorted = iv_df.sort_values(by='info_value', ascending=False)\n",
    "pd.options.display.float_format = '{:.6f}'.format\n",
    "# Display the IV values sorted by their importance\n",
    "print(iv_sorted)"
   ]
  },
  {
   "cell_type": "code",
   "execution_count": 20,
   "metadata": {},
   "outputs": [],
   "source": [
    "# List of categorical variables to convert to dummies\n",
    "dummy_vars = ['num_children', 'income_type', 'education_type', 'family_status', \n",
    "              'housing_type', 'occupation', 'num_family_members', \n",
    "              'gp_income_total', 'gp_age_y', 'gp_employed_y']\n",
    "\n",
    "# Apply the convert_to_dummy function for each categorical variable\n",
    "for var in dummy_vars:\n",
    "    application = convert_to_dummy(application, var)"
   ]
  },
  {
   "cell_type": "code",
   "execution_count": 24,
   "metadata": {},
   "outputs": [],
   "source": [
    "application.to_csv('../data/engineered_labeled_applications.csv')"
   ]
  }
 ],
 "metadata": {
  "kernelspec": {
   "display_name": "Python 3",
   "language": "python",
   "name": "python3"
  },
  "language_info": {
   "codemirror_mode": {
    "name": "ipython",
    "version": 3
   },
   "file_extension": ".py",
   "mimetype": "text/x-python",
   "name": "python",
   "nbconvert_exporter": "python",
   "pygments_lexer": "ipython3",
   "version": "3.11.3"
  }
 },
 "nbformat": 4,
 "nbformat_minor": 2
}
